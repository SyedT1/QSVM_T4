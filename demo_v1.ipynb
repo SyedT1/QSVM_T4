{
 "cells": [
  {
   "cell_type": "code",
   "execution_count": 2,
   "id": "2e2dc24b-46a6-427c-afa0-246f9070e2ce",
   "metadata": {},
   "outputs": [
    {
     "name": "stdout",
     "output_type": "stream",
     "text": [
      "Explained variance ratio (PCA): [0.83717573 0.08612781]\n",
      "(<function QuantumCircuits.get_kernel_functions.<locals>.kernel1 at 0x000002BD1A5D3740>, <function QuantumCircuits.get_kernel_functions.<locals>.kernel2 at 0x000002BD1A5D37E0>)\n",
      "\n",
      "Evaluating AEFM (Proposal 1)...\n",
      "Evaluating SEFM-H (Proposal 2)...\n",
      "AEFM       - Test Accuracy: 0.900 (CV: 0.871±0.083)\n",
      "SEFM-H     - Test Accuracy: 0.967 (CV: 0.914±0.053)\n"
     ]
    }
   ],
   "source": [
    "from data_preprocessor import DataPreprocessor\n",
    "from quantum_circuits import QuantumCircuits\n",
    "from quantum_kernel_svm import QuantumSVM  # New module\n",
    "\n",
    "# Load data\n",
    "preprocessor = DataPreprocessor(n_components=2, test_size=0.3, random_state=42)\n",
    "X_train, X_test, y_train, y_test = preprocessor.load_and_preprocess()\n",
    "print(f\"Explained variance ratio (PCA): {preprocessor.get_explained_variance_ratio()}\")\n",
    "\n",
    "# Initialize circuits and get kernel functions\n",
    "circuits = QuantumCircuits(wires=2)\n",
    "kernel1, kernel2 = circuits.get_kernel_functions()\n",
    "print(circuits.get_kernel_functions())\n",
    "# Evaluate Proposal 1 (AEFM)\n",
    "print(\"\\nEvaluating AEFM (Proposal 1)...\")\n",
    "qsvm1 = QuantumSVM(kernel1)\n",
    "results1 = qsvm1.evaluate(X_train, y_train, X_test, y_test)\n",
    "\n",
    "# Evaluate Proposal 2 (SEFM-H)\n",
    "print(\"Evaluating SEFM-H (Proposal 2)...\")\n",
    "qsvm2 = QuantumSVM(kernel2)\n",
    "results2 = qsvm2.evaluate(X_train, y_train, X_test, y_test)\n",
    "\n",
    "print(f\"AEFM       - Test Accuracy: {results1['test_acc']:.3f} (CV: {results1['cv_mean']:.3f}±{results1['cv_std']:.3f})\")\n",
    "print(f\"SEFM-H     - Test Accuracy: {results2['test_acc']:.3f} (CV: {results2['cv_mean']:.3f}±{results2['cv_std']:.3f})\")"
   ]
  }
 ],
 "metadata": {
  "kernelspec": {
   "display_name": "Python 3 (ipykernel)",
   "language": "python",
   "name": "python3"
  },
  "language_info": {
   "codemirror_mode": {
    "name": "ipython",
    "version": 3
   },
   "file_extension": ".py",
   "mimetype": "text/x-python",
   "name": "python",
   "nbconvert_exporter": "python",
   "pygments_lexer": "ipython3",
   "version": "3.12.11"
  }
 },
 "nbformat": 4,
 "nbformat_minor": 5
}
