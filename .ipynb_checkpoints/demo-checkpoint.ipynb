{
 "cells": [
  {
   "cell_type": "code",
   "execution_count": null,
   "id": "21f04485",
   "metadata": {
    "vscode": {
     "languageId": "plaintext"
    }
   },
   "outputs": [],
   "source": [
    "from data_preprocessor import DataPreprocessor\n",
    "from quantum_circuits import QuantumCircuits\n",
    "from quantum_classifier import QuantumClassifier\n",
    "\n",
    "preprocessor = DataPreprocessor(n_components=2, test_size=0.3, random_state=42)\n",
    "X_train, X_test, y_train, y_test = preprocessor.load_and_preprocess()\n",
    "print(f\"Explained variance ratio (PCA): {preprocessor.get_explained_variance_ratio()}\")\n",
    "\n",
    "# Initialize quantum circuits\n",
    "circuits = QuantumCircuits(device_name=\"default.qubit\", wires=2)\n",
    "qnode1, qnode2 = circuits.get_qnodes()\n",
    "\n",
    "# Train Proposal 1\n",
    "print(\"\\nTraining Proposal 1...\")\n",
    "classifier1 = QuantumClassifier(qnode1, n_params=8, lr=0.01, epochs=100, patience=15)\n",
    "results1 = classifier1.train(X_train, y_train, X_test, y_test)\n",
    "\n",
    "# Train Proposal 2\n",
    "print(\"Training Proposal 2...\")\n",
    "classifier2 = QuantumClassifier(qnode2, n_params=12, lr=0.01, epochs=100, patience=15)\n",
    "results2 = classifier2.train(X_train, y_train, X_test, y_test)\n",
    "\n",
    "# Performance comparison\n",
    "print(\"\\n=== PERFORMANCE COMPARISON ===\")\n",
    "print(f\"Proposal 1 - Final Training Accuracy: {results1['train_accs'][-1]:.3f}\")\n",
    "print(f\"Proposal 1 - Best Test Accuracy:     {results1['best_test_acc']:.3f}\")\n",
    "print(f\"Proposal 1 - Convergence Epochs:    {results1['final_epoch']}\")\n",
    "print(f\"Proposal 1 - Final Loss:           {results1['train_losses'][-1]:.3f}\")\n",
    "\n",
    "print(f\"\\nProposal 2 - Final Training Accuracy: {results2['train_accs'][-1]:.3f}\")\n",
    "print(f\"Proposal 2 - Best Test Accuracy:     {results2['best_test_acc']:.3f}\")\n",
    "print(f\"Proposal 2 - Convergence Epochs:    {results2['final_epoch']}\")\n",
    "print(f\"Proposal 2 - Final Loss:           {results2['train_losses'][-1]:.3f}\")\n"
   ]
  }
 ],
 "metadata": {
  "kernelspec": {
   "display_name": "Python 3 (ipykernel)",
   "language": "python",
   "name": "python3"
  },
  "language_info": {
   "codemirror_mode": {
    "name": "ipython",
    "version": 3
   },
   "file_extension": ".py",
   "mimetype": "text/x-python",
   "name": "python",
   "nbconvert_exporter": "python",
   "pygments_lexer": "ipython3",
   "version": "3.12.11"
  }
 },
 "nbformat": 4,
 "nbformat_minor": 5
}
